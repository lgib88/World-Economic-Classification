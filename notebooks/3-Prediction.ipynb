{
 "cells": [
  {
   "cell_type": "markdown",
   "id": "fbcc0ee0",
   "metadata": {},
   "source": [
    "## Libraries"
   ]
  },
  {
   "cell_type": "code",
   "execution_count": 1,
   "id": "2fdb424e",
   "metadata": {},
   "outputs": [],
   "source": [
    "# importing necessary libraries\n",
    "import pandas as pd  # data analysis\n",
    "import numpy as np  # mathematic evaluations\n",
    "#from sklearn.preprocessing import MinMaxScaler # for data scaling\n",
    "#from sklearn.preprocessing import RobustScaler # for data scaling\n",
    "from sklearn.preprocessing import StandardScaler # for data scaling\n",
    "#from sklearn.linear_model import LinearRegression\n",
    "from sklearn.model_selection import train_test_split\n",
    "from sklearn.model_selection import TimeSeriesSplit\n",
    "from sklearn.metrics import mean_absolute_error, mean_squared_error, r2_score\n",
    "#from sklearn.ensemble import RandomForestRegressor\n",
    "#from sklearn.utils.class_weight import compute_sample_weight # for changing weight of the columns\n",
    "from statsmodels.tsa.arima.model import ARIMA\n",
    "#from statsmodels.tsa.statespace.sarimax import SARIMAX\n",
    "from pmdarima import auto_arima\n",
    "import matplotlib.pyplot as plt # plotting library\n",
    "import seaborn as sns # data visualization"
   ]
  },
  {
   "cell_type": "markdown",
   "id": "d5b2e9ac",
   "metadata": {},
   "source": [
    "## Imports"
   ]
  },
  {
   "cell_type": "code",
   "execution_count": 2,
   "id": "d472a4fe",
   "metadata": {},
   "outputs": [],
   "source": [
    "df_merged = pd.read_csv('C:/Users/lluis/Desktop/Documents/IronHack/Final_Project/data/cleaned/df_merged.csv')\n",
    "df_exchange_rate = pd.read_csv('C:/Users/lluis/Desktop/Documents/IronHack/Final_Project/data/cleaned/df_exchange_rate.csv')"
   ]
  },
  {
   "cell_type": "markdown",
   "id": "7d3bf4c0",
   "metadata": {},
   "source": [
    "### Transforming Data for ML"
   ]
  },
  {
   "cell_type": "code",
   "execution_count": 3,
   "id": "480a70e4",
   "metadata": {},
   "outputs": [
    {
     "name": "stdout",
     "output_type": "stream",
     "text": [
      "<class 'pandas.core.frame.DataFrame'>\n",
      "RangeIndex: 175 entries, 0 to 174\n",
      "Data columns (total 59 columns):\n",
      " #   Column            Non-Null Count  Dtype  \n",
      "---  ------            --------------  -----  \n",
      " 0   country_name      175 non-null    object \n",
      " 1   un_class_2014     150 non-null    object \n",
      " 2   imf_class_2023    172 non-null    object \n",
      " 3   g7                175 non-null    bool   \n",
      " 4   eu_member         175 non-null    bool   \n",
      " 5   fuel_exp_country  175 non-null    bool   \n",
      " 6   wealth_rank       161 non-null    float64\n",
      " 7   ISO2              174 non-null    object \n",
      " 8   ISO3              175 non-null    object \n",
      " 9   1980              126 non-null    float64\n",
      " 10  1981              127 non-null    float64\n",
      " 11  1982              127 non-null    float64\n",
      " 12  1983              127 non-null    float64\n",
      " 13  1984              127 non-null    float64\n",
      " 14  1985              128 non-null    float64\n",
      " 15  1986              129 non-null    float64\n",
      " 16  1987              129 non-null    float64\n",
      " 17  1988              129 non-null    float64\n",
      " 18  1989              129 non-null    float64\n",
      " 19  1990              140 non-null    float64\n",
      " 20  1991              142 non-null    float64\n",
      " 21  1992              153 non-null    float64\n",
      " 22  1993              155 non-null    float64\n",
      " 23  1994              156 non-null    float64\n",
      " 24  1995              158 non-null    float64\n",
      " 25  1996              159 non-null    float64\n",
      " 26  1997              161 non-null    float64\n",
      " 27  1998              164 non-null    float64\n",
      " 28  1999              164 non-null    float64\n",
      " 29  2000              168 non-null    float64\n",
      " 30  2001              168 non-null    float64\n",
      " 31  2002              170 non-null    float64\n",
      " 32  2003              171 non-null    float64\n",
      " 33  2004              173 non-null    float64\n",
      " 34  2005              173 non-null    float64\n",
      " 35  2006              173 non-null    float64\n",
      " 36  2007              173 non-null    float64\n",
      " 37  2008              173 non-null    float64\n",
      " 38  2009              173 non-null    float64\n",
      " 39  2010              174 non-null    float64\n",
      " 40  2011              173 non-null    float64\n",
      " 41  2012              174 non-null    float64\n",
      " 42  2013              174 non-null    float64\n",
      " 43  2014              174 non-null    float64\n",
      " 44  2015              174 non-null    float64\n",
      " 45  2016              174 non-null    float64\n",
      " 46  2017              174 non-null    float64\n",
      " 47  2018              174 non-null    float64\n",
      " 48  2019              174 non-null    float64\n",
      " 49  2020              173 non-null    float64\n",
      " 50  2021              173 non-null    float64\n",
      " 51  2022              173 non-null    float64\n",
      " 52  2023              170 non-null    float64\n",
      " 53  2024              170 non-null    float64\n",
      " 54  2025              170 non-null    float64\n",
      " 55  2026              169 non-null    float64\n",
      " 56  2027              169 non-null    float64\n",
      " 57  2028              169 non-null    float64\n",
      " 58  2029              169 non-null    float64\n",
      "dtypes: bool(3), float64(51), object(5)\n",
      "memory usage: 77.2+ KB\n"
     ]
    }
   ],
   "source": [
    "df_merged.info()"
   ]
  },
  {
   "cell_type": "code",
   "execution_count": 4,
   "id": "632e07db",
   "metadata": {},
   "outputs": [],
   "source": [
    "# First I am dropping the columns I will not use\n",
    "\n",
    "df_merged_pred = df_merged.drop(['un_class_2014', 'g7', 'eu_member', 'fuel_exp_country', 'wealth_rank', 'imf_class_2023', 'ISO2', 'ISO3', '2025', '2026', '2027', '2028','2029'], axis=1)"
   ]
  },
  {
   "cell_type": "markdown",
   "id": "b6df4c6b",
   "metadata": {},
   "source": [
    "### Dealing with null values"
   ]
  },
  {
   "cell_type": "code",
   "execution_count": 5,
   "id": "99fd7c0e",
   "metadata": {},
   "outputs": [
    {
     "name": "stderr",
     "output_type": "stream",
     "text": [
      "C:\\Users\\lluis\\AppData\\Local\\Temp\\ipykernel_11128\\485477642.py:2: FutureWarning: DataFrame.interpolate with object dtype is deprecated and will raise in a future version. Call obj.infer_objects(copy=False) before interpolating instead.\n",
      "  df_merged_pred = df_merged_pred.interpolate(axis=0)\n"
     ]
    }
   ],
   "source": [
    "# We will estimate the NaN values based on other values in the same column (year)\n",
    "df_merged_pred = df_merged_pred.interpolate(axis=0)"
   ]
  },
  {
   "cell_type": "markdown",
   "id": "a4a65378",
   "metadata": {},
   "source": [
    "### Data Scaling"
   ]
  },
  {
   "cell_type": "markdown",
   "id": "f3cac621",
   "metadata": {},
   "source": [
    "Selecting the countries for which I want to predict GDP per capita with ARIMA"
   ]
  },
  {
   "cell_type": "code",
   "execution_count": 6,
   "id": "a6be6840",
   "metadata": {},
   "outputs": [],
   "source": [
    "# Create a new DataFrame with only rows where 'country_name' is 'Spain'\n",
    "df_spain = df_merged_pred[df_merged_pred['country_name'] == 'Spain'].T\n",
    "# Drop the first row\n",
    "df_spain = df_spain.drop(df_spain.index[0])\n",
    "\n",
    "# Create a new DataFrame with only rows where 'country_name' is 'Switzerland'\n",
    "df_switzerland = df_merged_pred[df_merged_pred['country_name'] == 'Switzerland'].T\n",
    "# Drop the first row\n",
    "df_switzerland = df_switzerland.drop(df_switzerland.index[0])\n",
    "\n",
    "# Create a new DataFrame with only rows where 'country_name' is 'United States'\n",
    "df_usa = df_merged_pred[df_merged_pred['country_name'] == 'United States'].T\n",
    "# Drop the first row\n",
    "df_usa = df_usa.drop(df_usa.index[0])\n",
    "\n",
    "# Create a new DataFrame with only rows where 'country_name' is 'India'\n",
    "df_india = df_merged_pred[df_merged_pred['country_name'] == 'India'].T\n",
    "# Drop the first row\n",
    "df_india = df_india.drop(df_india.index[0])\n",
    "\n",
    "# Create a new DataFrame with only rows where 'country_name' is 'Venezuela'\n",
    "df_venezuela = df_merged_pred[df_merged_pred['country_name'] == 'Venezuela'].T\n",
    "# Drop the first row\n",
    "df_venezuela = df_venezuela.drop(df_venezuela.index[0])"
   ]
  },
  {
   "cell_type": "code",
   "execution_count": 7,
   "id": "c2f913fd",
   "metadata": {},
   "outputs": [],
   "source": [
    "# Create a StandardScaler instance for each of the countries\n",
    "scaler1 = StandardScaler()\n",
    "scaler2 = StandardScaler()\n",
    "scaler3 = StandardScaler()\n",
    "scaler4 = StandardScaler()\n",
    "scaler5 = StandardScaler()\n",
    "\n",
    "# Fit the scaler to the data and transform the data\n",
    "df_spain_scaled = pd.DataFrame(scaler1.fit_transform(df_spain), columns=df_spain.columns, index=df_spain.index)\n",
    "df_switzerland_scaled = pd.DataFrame(scaler2.fit_transform(df_switzerland), columns=df_switzerland.columns, index=df_switzerland.index)\n",
    "df_usa_scaled = pd.DataFrame(scaler3.fit_transform(df_usa), columns=df_usa.columns, index=df_usa.index)\n",
    "df_india_scaled = pd.DataFrame(scaler4.fit_transform(df_india), columns=df_india.columns, index=df_india.index)\n",
    "df_venezuela_scaled = pd.DataFrame(scaler5.fit_transform(df_venezuela), columns=df_venezuela.columns, index=df_venezuela.index)"
   ]
  },
  {
   "cell_type": "markdown",
   "id": "c9d28fe1",
   "metadata": {},
   "source": [
    "### ARIMA Prediction"
   ]
  },
  {
   "cell_type": "markdown",
   "id": "ec6fa511",
   "metadata": {},
   "source": [
    "ARIMA prediction for Spain"
   ]
  },
  {
   "cell_type": "code",
   "execution_count": 8,
   "id": "a2f40653",
   "metadata": {},
   "outputs": [
    {
     "name": "stdout",
     "output_type": "stream",
     "text": [
      "Performing stepwise search to minimize aic\n",
      " ARIMA(1,1,1)(0,1,1)[12]             : AIC=-26.474, Time=32.44 sec\n",
      " ARIMA(0,1,0)(0,1,0)[12]             : AIC=-27.690, Time=0.03 sec\n",
      " ARIMA(1,1,0)(1,1,0)[12]             : AIC=-28.411, Time=13.27 sec\n",
      " ARIMA(0,1,1)(0,1,1)[12]             : AIC=-28.460, Time=46.65 sec\n",
      " ARIMA(0,1,1)(0,1,0)[12]             : AIC=-28.280, Time=4.59 sec\n",
      " ARIMA(0,1,1)(1,1,1)[12]             : AIC=-26.757, Time=46.84 sec\n",
      " ARIMA(0,1,1)(0,1,2)[12]             : AIC=-26.757, Time=39.01 sec\n",
      " ARIMA(0,1,1)(1,1,0)[12]             : AIC=-28.740, Time=17.16 sec\n",
      " ARIMA(0,1,1)(2,1,0)[12]             : AIC=-26.757, Time=28.62 sec\n",
      " ARIMA(0,1,1)(2,1,1)[12]             : AIC=-24.757, Time=50.75 sec\n",
      " ARIMA(0,1,0)(1,1,0)[12]             : AIC=-28.539, Time=9.90 sec\n",
      " ARIMA(1,1,1)(1,1,0)[12]             : AIC=-26.763, Time=55.43 sec\n",
      " ARIMA(0,1,2)(1,1,0)[12]             : AIC=-26.775, Time=23.30 sec\n",
      " ARIMA(1,1,2)(1,1,0)[12]             : AIC=-25.023, Time=80.91 sec\n",
      " ARIMA(0,1,1)(1,1,0)[12] intercept   : AIC=-27.748, Time=26.44 sec\n",
      "\n",
      "Best model:  ARIMA(0,1,1)(1,1,0)[12]          \n",
      "Total fit time: 475.349 seconds\n",
      "                                      SARIMAX Results                                      \n",
      "===========================================================================================\n",
      "Dep. Variable:                                   y   No. Observations:                   45\n",
      "Model:             SARIMAX(0, 1, 1)x(1, 1, [], 12)   Log Likelihood                  17.370\n",
      "Date:                             Thu, 06 Jun 2024   AIC                            -28.740\n",
      "Time:                                     16:57:08   BIC                            -24.343\n",
      "Sample:                                 01-01-1980   HQIC                           -27.283\n",
      "                                      - 01-01-2024                                         \n",
      "Covariance Type:                               opg                                         \n",
      "==============================================================================\n",
      "                 coef    std err          z      P>|z|      [0.025      0.975]\n",
      "------------------------------------------------------------------------------\n",
      "ma.L1          0.2726      0.102      2.663      0.008       0.072       0.473\n",
      "ar.S.L12      -0.3847      0.334     -1.153      0.249      -1.039       0.269\n",
      "sigma2         0.0186      0.003      5.433      0.000       0.012       0.025\n",
      "===================================================================================\n",
      "Ljung-Box (L1) (Q):                   0.03   Jarque-Bera (JB):                50.34\n",
      "Prob(Q):                              0.86   Prob(JB):                         0.00\n",
      "Heteroskedasticity (H):              67.36   Skew:                             0.43\n",
      "Prob(H) (two-sided):                  0.00   Kurtosis:                         9.08\n",
      "===================================================================================\n",
      "\n",
      "Warnings:\n",
      "[1] Covariance matrix calculated using the outer product of gradients (complex-step).\n",
      "The predicted next 5 values are 2025-01-01    2.281613\n",
      "2026-01-01    2.359394\n",
      "2027-01-01    2.456647\n",
      "2028-01-01    2.614866\n",
      "2029-01-01    2.777804\n",
      "Freq: YS-JAN, dtype: float64\n"
     ]
    }
   ],
   "source": [
    "# We want to predict the next 5 columns of df_spain\n",
    "y = df_spain_scaled.iloc[:, -1]\n",
    "\n",
    "# Define the auto_arima model\n",
    "model = auto_arima(y, start_p=1, start_q=1, max_p=6, max_q=6, m=12,\n",
    "                   start_P=0, seasonal=True, d=1, D=1, trace=True,\n",
    "                   error_action='ignore', suppress_warnings=True, stepwise=True)\n",
    "\n",
    "# Fit the model\n",
    "model_fit = model.fit(y)\n",
    "\n",
    "# Print the best model parameters\n",
    "print(model_fit.summary())\n",
    "\n",
    "# Predict the next 5 values\n",
    "next_values = model_fit.predict(n_periods=5)\n",
    "print(f\"The predicted next 5 values are {next_values}\")"
   ]
  },
  {
   "cell_type": "code",
   "execution_count": 9,
   "id": "4720c2d3",
   "metadata": {},
   "outputs": [
    {
     "name": "stderr",
     "output_type": "stream",
     "text": [
      "C:\\Users\\lluis\\AppData\\Local\\Temp\\ipykernel_11128\\873123723.py:6: FutureWarning: Series.__getitem__ treating keys as positions is deprecated. In a future version, integer keys will always be treated as labels (consistent with DataFrame behavior). To access a value by position, use `ser.iloc[pos]`\n",
      "  y_train, y_test = y[train_index], y[test_index]\n"
     ]
    },
    {
     "name": "stdout",
     "output_type": "stream",
     "text": [
      "MAE: 0.2501697625435116\n",
      "MSE: 0.08214260209910619\n",
      "RMSE: 0.2866053071719123\n",
      "R2 Score: 0.4599458440052079\n"
     ]
    },
    {
     "name": "stderr",
     "output_type": "stream",
     "text": [
      "C:\\Users\\lluis\\AppData\\Local\\Temp\\ipykernel_11128\\873123723.py:6: FutureWarning: Series.__getitem__ treating keys as positions is deprecated. In a future version, integer keys will always be treated as labels (consistent with DataFrame behavior). To access a value by position, use `ser.iloc[pos]`\n",
      "  y_train, y_test = y[train_index], y[test_index]\n"
     ]
    },
    {
     "name": "stdout",
     "output_type": "stream",
     "text": [
      "MAE: 0.2415005015967703\n",
      "MSE: 0.11679653056011245\n",
      "RMSE: 0.3417550739347003\n",
      "R2 Score: 0.6146746418650428\n"
     ]
    }
   ],
   "source": [
    "# Define the TimeSeriesSplit\n",
    "tscv = TimeSeriesSplit(n_splits=2)\n",
    "\n",
    "# Loop over the splits\n",
    "for train_index, test_index in tscv.split(y):\n",
    "    y_train, y_test = y[train_index], y[test_index]\n",
    "\n",
    "    # Fit the model on the training data\n",
    "    model_fit = model.fit(y_train)\n",
    "\n",
    "    # Make predictions on the test data\n",
    "    y_pred = model_fit.predict(n_periods=len(y_test))\n",
    "\n",
    "    # Calculate the metrics\n",
    "    mae = mean_absolute_error(y_test, y_pred)\n",
    "    mse = mean_squared_error(y_test, y_pred)\n",
    "    rmse = np.sqrt(mse)\n",
    "    r2 = r2_score(y_test, y_pred)\n",
    "\n",
    "    print(f\"MAE: {mae}\")\n",
    "    print(f\"MSE: {mse}\")\n",
    "    print(f\"RMSE: {rmse}\")\n",
    "    print(f\"R2 Score: {r2}\")"
   ]
  },
  {
   "cell_type": "markdown",
   "id": "632fe03d",
   "metadata": {},
   "source": [
    "Interpretation:\n",
    "\n",
    "- MAE, MSE, and RMSE: These metrics appear to be in a reasonable range, but their adequacy depends on the context, including the scale of the data and the specific problem domain. In isolation, they don't tell you whether the model is good or bad; they need to be compared to the baseline errors (e.g., errors obtained from a simple model like mean prediction).\n",
    "\n",
    "- R² Score: The negative R² score is concerning. It suggests that the model is not performing well and is worse than a trivial model that would predict the mean of the target variable for all observations. This indicates that there may be significant issues with the model, such as overfitting, underfitting, incorrect model assumptions, or issues with the data itself."
   ]
  },
  {
   "cell_type": "code",
   "execution_count": 10,
   "id": "10c03444",
   "metadata": {},
   "outputs": [
    {
     "name": "stdout",
     "output_type": "stream",
     "text": [
      "[[53196.52168144]\n",
      " [54130.05591264]\n",
      " [55297.28060515]\n",
      " [57196.2362547 ]\n",
      " [59151.81642286]]\n"
     ]
    }
   ],
   "source": [
    "# Now to descale your predictions\n",
    "next_values_descaled = scaler1.inverse_transform(next_values.values.reshape(-1, 1))\n",
    "\n",
    "print(next_values_descaled)"
   ]
  },
  {
   "cell_type": "markdown",
   "id": "f3e8789d",
   "metadata": {},
   "source": [
    "We add the predicted data back to spain_df"
   ]
  },
  {
   "cell_type": "code",
   "execution_count": 11,
   "id": "6e164d7b",
   "metadata": {},
   "outputs": [],
   "source": [
    "# We add our predictions to the dataframe\n",
    "years = [2025, 2026, 2027, 2028, 2029]\n",
    "for i, year in enumerate(years):\n",
    "    df_spain.loc[year] = next_values_descaled[i]"
   ]
  },
  {
   "cell_type": "markdown",
   "id": "c2bf63cd",
   "metadata": {},
   "source": [
    "ARIMA prediction for Switzerland"
   ]
  },
  {
   "cell_type": "code",
   "execution_count": 12,
   "id": "8290050c",
   "metadata": {},
   "outputs": [
    {
     "name": "stdout",
     "output_type": "stream",
     "text": [
      "Performing stepwise search to minimize aic\n",
      " ARIMA(1,1,1)(0,1,1)[12]             : AIC=-51.219, Time=70.34 sec\n",
      " ARIMA(0,1,0)(0,1,0)[12]             : AIC=-47.046, Time=0.03 sec\n",
      " ARIMA(1,1,0)(1,1,0)[12]             : AIC=-51.311, Time=21.94 sec\n",
      " ARIMA(0,1,1)(0,1,1)[12]             : AIC=-52.861, Time=28.44 sec\n",
      " ARIMA(0,1,1)(0,1,0)[12]             : AIC=-49.433, Time=3.61 sec\n",
      " ARIMA(0,1,1)(1,1,1)[12]             : AIC=-51.422, Time=41.45 sec\n",
      " ARIMA(0,1,1)(0,1,2)[12]             : AIC=-51.422, Time=78.89 sec\n",
      " ARIMA(0,1,1)(1,1,0)[12]             : AIC=-52.960, Time=33.98 sec\n",
      " ARIMA(0,1,1)(2,1,0)[12]             : AIC=-51.422, Time=93.23 sec\n",
      " ARIMA(0,1,1)(2,1,1)[12]             : AIC=-49.422, Time=75.75 sec\n",
      " ARIMA(0,1,0)(1,1,0)[12]             : AIC=-49.283, Time=17.23 sec\n",
      " ARIMA(1,1,1)(1,1,0)[12]             : AIC=-51.178, Time=47.58 sec\n",
      " ARIMA(0,1,2)(1,1,0)[12]             : AIC=-51.155, Time=33.88 sec\n",
      " ARIMA(1,1,2)(1,1,0)[12]             : AIC=-48.963, Time=41.81 sec\n",
      " ARIMA(0,1,1)(1,1,0)[12] intercept   : AIC=-53.635, Time=22.42 sec\n",
      " ARIMA(0,1,1)(0,1,0)[12] intercept   : AIC=-48.480, Time=10.74 sec\n",
      " ARIMA(0,1,1)(2,1,0)[12] intercept   : AIC=-52.728, Time=82.34 sec\n",
      " ARIMA(0,1,1)(1,1,1)[12] intercept   : AIC=-52.728, Time=87.38 sec\n",
      " ARIMA(0,1,1)(0,1,1)[12] intercept   : AIC=-53.764, Time=95.14 sec\n",
      " ARIMA(0,1,1)(0,1,2)[12] intercept   : AIC=-52.728, Time=138.31 sec\n",
      " ARIMA(0,1,1)(1,1,2)[12] intercept   : AIC=-50.728, Time=81.67 sec\n",
      " ARIMA(0,1,0)(0,1,1)[12] intercept   : AIC=inf, Time=32.37 sec\n",
      " ARIMA(1,1,1)(0,1,1)[12] intercept   : AIC=inf, Time=49.45 sec\n",
      " ARIMA(0,1,2)(0,1,1)[12] intercept   : AIC=inf, Time=97.14 sec\n",
      " ARIMA(1,1,0)(0,1,1)[12] intercept   : AIC=-51.934, Time=20.65 sec\n",
      " ARIMA(1,1,2)(0,1,1)[12] intercept   : AIC=inf, Time=62.79 sec\n",
      "\n",
      "Best model:  ARIMA(0,1,1)(0,1,1)[12] intercept\n",
      "Total fit time: 1368.634 seconds\n",
      "                                     SARIMAX Results                                      \n",
      "==========================================================================================\n",
      "Dep. Variable:                                  y   No. Observations:                   45\n",
      "Model:             SARIMAX(0, 1, 1)x(0, 1, 1, 12)   Log Likelihood                  30.882\n",
      "Date:                            Thu, 06 Jun 2024   AIC                            -53.764\n",
      "Time:                                    17:24:10   BIC                            -47.901\n",
      "Sample:                                01-01-1980   HQIC                           -51.821\n",
      "                                     - 01-01-2024                                         \n",
      "Covariance Type:                              opg                                         \n",
      "==============================================================================\n",
      "                 coef    std err          z      P>|z|      [0.025      0.975]\n",
      "------------------------------------------------------------------------------\n",
      "intercept      0.0274      0.020      1.369      0.171      -0.012       0.067\n",
      "ma.L1          0.4497      0.253      1.780      0.075      -0.046       0.945\n",
      "ma.S.L12      -0.8344      2.932     -0.285      0.776      -6.581       4.913\n",
      "sigma2         0.0061      0.016      0.370      0.711      -0.026       0.038\n",
      "===================================================================================\n",
      "Ljung-Box (L1) (Q):                   0.39   Jarque-Bera (JB):                81.57\n",
      "Prob(Q):                              0.53   Prob(JB):                         0.00\n",
      "Heteroskedasticity (H):               8.68   Skew:                             1.73\n",
      "Prob(H) (two-sided):                  0.00   Kurtosis:                        10.01\n",
      "===================================================================================\n",
      "\n",
      "Warnings:\n",
      "[1] Covariance matrix calculated using the outer product of gradients (complex-step).\n",
      "The predicted next 5 values are 2025-01-01    2.385853\n",
      "2026-01-01    2.508006\n",
      "2027-01-01    2.607527\n",
      "2028-01-01    2.744712\n",
      "2029-01-01    2.886703\n",
      "Freq: YS-JAN, dtype: float64\n"
     ]
    }
   ],
   "source": [
    "# We want to predict the next 5 columns of df_switzerland\n",
    "y = df_switzerland_scaled.iloc[:, -1]\n",
    "\n",
    "# Define the auto_arima model\n",
    "model = auto_arima(y, start_p=1, start_q=1, max_p=6, max_q=6, m=12,\n",
    "                   start_P=0, seasonal=True, d=1, D=1, trace=True,\n",
    "                   error_action='ignore', suppress_warnings=True, stepwise=True)\n",
    "\n",
    "# Fit the model\n",
    "model_fit = model.fit(y)\n",
    "\n",
    "# Print the best model parameters\n",
    "print(model_fit.summary())\n",
    "\n",
    "# Predict the next 5 values\n",
    "next_values = model_fit.predict(n_periods=5)\n",
    "print(f\"The predicted next 5 values are {next_values}\")"
   ]
  },
  {
   "cell_type": "code",
   "execution_count": 13,
   "id": "acb5ef97",
   "metadata": {},
   "outputs": [
    {
     "name": "stderr",
     "output_type": "stream",
     "text": [
      "C:\\Users\\lluis\\AppData\\Local\\Temp\\ipykernel_11128\\873123723.py:6: FutureWarning: Series.__getitem__ treating keys as positions is deprecated. In a future version, integer keys will always be treated as labels (consistent with DataFrame behavior). To access a value by position, use `ser.iloc[pos]`\n",
      "  y_train, y_test = y[train_index], y[test_index]\n"
     ]
    },
    {
     "name": "stdout",
     "output_type": "stream",
     "text": [
      "MAE: 0.37673565858625946\n",
      "MSE: 0.2379596589380115\n",
      "RMSE: 0.4878110893963067\n",
      "R2 Score: -0.9758791942434588\n"
     ]
    },
    {
     "name": "stderr",
     "output_type": "stream",
     "text": [
      "C:\\Users\\lluis\\AppData\\Local\\Temp\\ipykernel_11128\\873123723.py:6: FutureWarning: Series.__getitem__ treating keys as positions is deprecated. In a future version, integer keys will always be treated as labels (consistent with DataFrame behavior). To access a value by position, use `ser.iloc[pos]`\n",
      "  y_train, y_test = y[train_index], y[test_index]\n"
     ]
    },
    {
     "name": "stdout",
     "output_type": "stream",
     "text": [
      "MAE: 0.4483598516353471\n",
      "MSE: 0.3040156237346455\n",
      "RMSE: 0.5513761182121016\n",
      "R2 Score: -0.01659624713560448\n"
     ]
    }
   ],
   "source": [
    "# Define the TimeSeriesSplit\n",
    "tscv = TimeSeriesSplit(n_splits=2)\n",
    "\n",
    "# Loop over the splits\n",
    "for train_index, test_index in tscv.split(y):\n",
    "    y_train, y_test = y[train_index], y[test_index]\n",
    "\n",
    "    # Fit the model on the training data\n",
    "    model_fit = model.fit(y_train)\n",
    "\n",
    "    # Make predictions on the test data\n",
    "    y_pred = model_fit.predict(n_periods=len(y_test))\n",
    "\n",
    "    # Calculate the metrics\n",
    "    mae = mean_absolute_error(y_test, y_pred)\n",
    "    mse = mean_squared_error(y_test, y_pred)\n",
    "    rmse = np.sqrt(mse)\n",
    "    r2 = r2_score(y_test, y_pred)\n",
    "\n",
    "    print(f\"MAE: {mae}\")\n",
    "    print(f\"MSE: {mse}\")\n",
    "    print(f\"RMSE: {rmse}\")\n",
    "    print(f\"R2 Score: {r2}\")"
   ]
  },
  {
   "cell_type": "code",
   "execution_count": 14,
   "id": "21f2606b",
   "metadata": {},
   "outputs": [
    {
     "name": "stdout",
     "output_type": "stream",
     "text": [
      "[[ 94795.83632304]\n",
      " [ 97224.0129576 ]\n",
      " [ 99202.29603772]\n",
      " [101929.28139771]\n",
      " [104751.79454437]]\n"
     ]
    }
   ],
   "source": [
    "# Now to descale your predictions\n",
    "next_values_descaled = scaler2.inverse_transform(next_values.values.reshape(-1, 1))\n",
    "\n",
    "print(next_values_descaled)"
   ]
  },
  {
   "cell_type": "code",
   "execution_count": 15,
   "id": "dea4e55b",
   "metadata": {},
   "outputs": [],
   "source": [
    "# We add our predictions to the dataframe\n",
    "years = [2025, 2026, 2027, 2028, 2029]\n",
    "for i, year in enumerate(years):\n",
    "    df_switzerland.loc[year] = next_values_descaled[i]"
   ]
  },
  {
   "cell_type": "markdown",
   "id": "7ed24d55",
   "metadata": {},
   "source": [
    "ARIMA prediction for USA"
   ]
  },
  {
   "cell_type": "code",
   "execution_count": 16,
   "id": "d1826c4d",
   "metadata": {},
   "outputs": [
    {
     "name": "stdout",
     "output_type": "stream",
     "text": [
      "Performing stepwise search to minimize aic\n",
      " ARIMA(1,1,1)(0,1,1)[12]             : AIC=-55.830, Time=40.61 sec\n",
      " ARIMA(0,1,0)(0,1,0)[12]             : AIC=-53.085, Time=0.11 sec\n",
      " ARIMA(1,1,0)(1,1,0)[12]             : AIC=-58.160, Time=25.83 sec\n",
      " ARIMA(0,1,1)(0,1,1)[12]             : AIC=-56.424, Time=15.30 sec\n",
      " ARIMA(1,1,0)(0,1,0)[12]             : AIC=-57.150, Time=0.09 sec\n",
      " ARIMA(1,1,0)(2,1,0)[12]             : AIC=-56.162, Time=18.45 sec\n",
      " ARIMA(1,1,0)(1,1,1)[12]             : AIC=-56.162, Time=25.43 sec\n",
      " ARIMA(1,1,0)(0,1,1)[12]             : AIC=-57.583, Time=33.08 sec\n",
      " ARIMA(1,1,0)(2,1,1)[12]             : AIC=-54.162, Time=34.03 sec\n",
      " ARIMA(0,1,0)(1,1,0)[12]             : AIC=-53.852, Time=9.75 sec\n",
      " ARIMA(2,1,0)(1,1,0)[12]             : AIC=-56.299, Time=28.61 sec\n",
      " ARIMA(1,1,1)(1,1,0)[12]             : AIC=-56.409, Time=46.20 sec\n",
      " ARIMA(0,1,1)(1,1,0)[12]             : AIC=-56.996, Time=33.17 sec\n",
      " ARIMA(2,1,1)(1,1,0)[12]             : AIC=-54.976, Time=31.91 sec\n",
      " ARIMA(1,1,0)(1,1,0)[12] intercept   : AIC=-58.985, Time=29.05 sec\n",
      " ARIMA(1,1,0)(0,1,0)[12] intercept   : AIC=-56.919, Time=0.12 sec\n",
      " ARIMA(1,1,0)(2,1,0)[12] intercept   : AIC=-57.183, Time=30.97 sec\n",
      " ARIMA(1,1,0)(1,1,1)[12] intercept   : AIC=-57.183, Time=40.68 sec\n",
      " ARIMA(1,1,0)(0,1,1)[12] intercept   : AIC=-58.771, Time=25.55 sec\n",
      " ARIMA(1,1,0)(2,1,1)[12] intercept   : AIC=-55.183, Time=91.72 sec\n",
      " ARIMA(0,1,0)(1,1,0)[12] intercept   : AIC=-57.590, Time=9.52 sec\n",
      " ARIMA(2,1,0)(1,1,0)[12] intercept   : AIC=-56.985, Time=38.18 sec\n",
      " ARIMA(1,1,1)(1,1,0)[12] intercept   : AIC=-56.985, Time=80.02 sec\n",
      " ARIMA(0,1,1)(1,1,0)[12] intercept   : AIC=-58.749, Time=24.35 sec\n",
      " ARIMA(2,1,1)(1,1,0)[12] intercept   : AIC=-54.991, Time=91.75 sec\n",
      "\n",
      "Best model:  ARIMA(1,1,0)(1,1,0)[12] intercept\n",
      "Total fit time: 804.517 seconds\n",
      "                                     SARIMAX Results                                      \n",
      "==========================================================================================\n",
      "Dep. Variable:                                  y   No. Observations:                   45\n",
      "Model:             SARIMAX(1, 1, 0)x(1, 1, 0, 12)   Log Likelihood                  33.492\n",
      "Date:                            Thu, 06 Jun 2024   AIC                            -58.985\n",
      "Time:                                    17:40:25   BIC                            -53.122\n",
      "Sample:                                01-01-1980   HQIC                           -57.042\n",
      "                                     - 01-01-2024                                         \n",
      "Covariance Type:                              opg                                         \n",
      "==============================================================================\n",
      "                 coef    std err          z      P>|z|      [0.025      0.975]\n",
      "------------------------------------------------------------------------------\n",
      "intercept      0.0303      0.023      1.324      0.186      -0.015       0.075\n",
      "ar.L1          0.3163      0.172      1.836      0.066      -0.021       0.654\n",
      "ar.S.L12      -0.4709      0.428     -1.099      0.272      -1.311       0.369\n",
      "sigma2         0.0065      0.002      3.591      0.000       0.003       0.010\n",
      "===================================================================================\n",
      "Ljung-Box (L1) (Q):                   0.00   Jarque-Bera (JB):               133.41\n",
      "Prob(Q):                              0.98   Prob(JB):                         0.00\n",
      "Heteroskedasticity (H):              18.10   Skew:                             2.15\n",
      "Prob(H) (two-sided):                  0.00   Kurtosis:                        12.03\n",
      "===================================================================================\n",
      "\n",
      "Warnings:\n",
      "[1] Covariance matrix calculated using the outer product of gradients (complex-step).\n",
      "The predicted next 5 values are 2025-01-01    2.460813\n",
      "2026-01-01    2.584135\n",
      "2027-01-01    2.714243\n",
      "2028-01-01    2.846422\n",
      "2029-01-01    3.008004\n",
      "Freq: YS-JAN, dtype: float64\n"
     ]
    }
   ],
   "source": [
    "# We want to predict the next 5 columns of df_usa\n",
    "y = df_usa_scaled.iloc[:, -1]\n",
    "\n",
    "# Define the auto_arima model\n",
    "model = auto_arima(y, start_p=1, start_q=1, max_p=6, max_q=6, m=12,\n",
    "                   start_P=0, seasonal=True, d=1, D=1, trace=True,\n",
    "                   error_action='ignore', suppress_warnings=True, stepwise=True)\n",
    "\n",
    "# Fit the model\n",
    "model_fit = model.fit(y)\n",
    "\n",
    "# Print the best model parameters\n",
    "print(model_fit.summary())\n",
    "\n",
    "# Predict the next 5 values\n",
    "next_values = model_fit.predict(n_periods=5)\n",
    "print(f\"The predicted next 5 values are {next_values}\")"
   ]
  },
  {
   "cell_type": "code",
   "execution_count": 17,
   "id": "b466c14c",
   "metadata": {},
   "outputs": [
    {
     "name": "stderr",
     "output_type": "stream",
     "text": [
      "C:\\Users\\lluis\\AppData\\Local\\Temp\\ipykernel_11128\\873123723.py:6: FutureWarning: Series.__getitem__ treating keys as positions is deprecated. In a future version, integer keys will always be treated as labels (consistent with DataFrame behavior). To access a value by position, use `ser.iloc[pos]`\n",
      "  y_train, y_test = y[train_index], y[test_index]\n"
     ]
    },
    {
     "name": "stdout",
     "output_type": "stream",
     "text": [
      "MAE: 0.05666672531587677\n",
      "MSE: 0.006739057822099983\n",
      "RMSE: 0.08209176464238044\n",
      "R2 Score: 0.9415816604141831\n"
     ]
    },
    {
     "name": "stderr",
     "output_type": "stream",
     "text": [
      "C:\\Users\\lluis\\AppData\\Local\\Temp\\ipykernel_11128\\873123723.py:6: FutureWarning: Series.__getitem__ treating keys as positions is deprecated. In a future version, integer keys will always be treated as labels (consistent with DataFrame behavior). To access a value by position, use `ser.iloc[pos]`\n",
      "  y_train, y_test = y[train_index], y[test_index]\n"
     ]
    },
    {
     "name": "stdout",
     "output_type": "stream",
     "text": [
      "MAE: 0.7454628178851508\n",
      "MSE: 0.8077991399144799\n",
      "RMSE: 0.8987764682692132\n",
      "R2 Score: -1.4151135188584858\n"
     ]
    }
   ],
   "source": [
    "# Define the TimeSeriesSplit\n",
    "tscv = TimeSeriesSplit(n_splits=2)\n",
    "\n",
    "# Loop over the splits\n",
    "for train_index, test_index in tscv.split(y):\n",
    "    y_train, y_test = y[train_index], y[test_index]\n",
    "\n",
    "    # Fit the model on the training data\n",
    "    model_fit = model.fit(y_train)\n",
    "\n",
    "    # Make predictions on the test data\n",
    "    y_pred = model_fit.predict(n_periods=len(y_test))\n",
    "\n",
    "    # Calculate the metrics\n",
    "    mae = mean_absolute_error(y_test, y_pred)\n",
    "    mse = mean_squared_error(y_test, y_pred)\n",
    "    rmse = np.sqrt(mse)\n",
    "    r2 = r2_score(y_test, y_pred)\n",
    "\n",
    "    print(f\"MAE: {mae}\")\n",
    "    print(f\"MSE: {mse}\")\n",
    "    print(f\"RMSE: {rmse}\")\n",
    "    print(f\"R2 Score: {r2}\")"
   ]
  },
  {
   "cell_type": "code",
   "execution_count": 18,
   "id": "7b3cafd6",
   "metadata": {},
   "outputs": [
    {
     "name": "stdout",
     "output_type": "stream",
     "text": [
      "[[87808.5946478 ]\n",
      " [90172.4850082 ]\n",
      " [92666.44403122]\n",
      " [95200.11477901]\n",
      " [98297.37107237]]\n"
     ]
    }
   ],
   "source": [
    "# Now to descale your predictions\n",
    "next_values_descaled = scaler3.inverse_transform(next_values.values.reshape(-1, 1))\n",
    "\n",
    "print(next_values_descaled)"
   ]
  },
  {
   "cell_type": "code",
   "execution_count": 19,
   "id": "9ad15ec3",
   "metadata": {},
   "outputs": [],
   "source": [
    "# We add our predictions to the dataframe\n",
    "years = [2025, 2026, 2027, 2028, 2029]\n",
    "for i, year in enumerate(years):\n",
    "    df_usa.loc[year] = next_values_descaled[i]"
   ]
  },
  {
   "cell_type": "markdown",
   "id": "f2f350cf",
   "metadata": {},
   "source": [
    "ARIMA prediction for India"
   ]
  },
  {
   "cell_type": "code",
   "execution_count": 20,
   "id": "6e8d2519",
   "metadata": {},
   "outputs": [
    {
     "name": "stdout",
     "output_type": "stream",
     "text": [
      "Performing stepwise search to minimize aic\n",
      " ARIMA(1,1,1)(0,1,1)[12]             : AIC=-59.530, Time=37.66 sec\n",
      " ARIMA(0,1,0)(0,1,0)[12]             : AIC=-52.221, Time=0.03 sec\n",
      " ARIMA(1,1,0)(1,1,0)[12]             : AIC=-61.355, Time=21.05 sec\n",
      " ARIMA(0,1,1)(0,1,1)[12]             : AIC=-59.521, Time=14.14 sec\n",
      " ARIMA(1,1,0)(0,1,0)[12]             : AIC=-61.339, Time=0.10 sec\n",
      " ARIMA(1,1,0)(2,1,0)[12]             : AIC=-59.555, Time=40.82 sec\n",
      " ARIMA(1,1,0)(1,1,1)[12]             : AIC=-59.555, Time=65.75 sec\n",
      " ARIMA(1,1,0)(0,1,1)[12]             : AIC=-61.490, Time=8.02 sec\n",
      " ARIMA(1,1,0)(0,1,2)[12]             : AIC=-59.555, Time=37.88 sec\n",
      " ARIMA(1,1,0)(1,1,2)[12]             : AIC=-57.555, Time=27.50 sec\n",
      " ARIMA(0,1,0)(0,1,1)[12]             : AIC=-54.836, Time=14.57 sec\n",
      " ARIMA(2,1,0)(0,1,1)[12]             : AIC=-59.535, Time=46.92 sec\n",
      " ARIMA(2,1,1)(0,1,1)[12]             : AIC=-57.561, Time=61.73 sec\n",
      " ARIMA(1,1,0)(0,1,1)[12] intercept   : AIC=-62.886, Time=23.46 sec\n",
      " ARIMA(1,1,0)(0,1,0)[12] intercept   : AIC=-63.901, Time=0.16 sec\n",
      " ARIMA(1,1,0)(1,1,0)[12] intercept   : AIC=-62.647, Time=59.69 sec\n",
      " ARIMA(1,1,0)(1,1,1)[12] intercept   : AIC=-60.925, Time=95.69 sec\n",
      " ARIMA(0,1,0)(0,1,0)[12] intercept   : AIC=-61.522, Time=0.10 sec\n",
      " ARIMA(2,1,0)(0,1,0)[12] intercept   : AIC=-62.051, Time=8.04 sec\n",
      " ARIMA(1,1,1)(0,1,0)[12] intercept   : AIC=-62.004, Time=9.54 sec\n",
      " ARIMA(0,1,1)(0,1,0)[12] intercept   : AIC=-63.772, Time=16.46 sec\n",
      " ARIMA(2,1,1)(0,1,0)[12] intercept   : AIC=-60.518, Time=44.02 sec\n",
      "\n",
      "Best model:  ARIMA(1,1,0)(0,1,0)[12] intercept\n",
      "Total fit time: 633.337 seconds\n",
      "                                     SARIMAX Results                                      \n",
      "==========================================================================================\n",
      "Dep. Variable:                                  y   No. Observations:                   45\n",
      "Model:             SARIMAX(1, 1, 0)x(0, 1, 0, 12)   Log Likelihood                  34.951\n",
      "Date:                            Thu, 06 Jun 2024   AIC                            -63.901\n",
      "Time:                                    17:53:16   BIC                            -59.504\n",
      "Sample:                                01-01-1980   HQIC                           -62.444\n",
      "                                     - 01-01-2024                                         \n",
      "Covariance Type:                              opg                                         \n",
      "==============================================================================\n",
      "                 coef    std err          z      P>|z|      [0.025      0.975]\n",
      "------------------------------------------------------------------------------\n",
      "intercept      0.0365      0.015      2.419      0.016       0.007       0.066\n",
      "ar.L1          0.3637      0.095      3.814      0.000       0.177       0.551\n",
      "sigma2         0.0066      0.001      6.226      0.000       0.004       0.009\n",
      "===================================================================================\n",
      "Ljung-Box (L1) (Q):                   0.03   Jarque-Bera (JB):                36.37\n",
      "Prob(Q):                              0.87   Prob(JB):                         0.00\n",
      "Heteroskedasticity (H):              14.20   Skew:                             0.88\n",
      "Prob(H) (two-sided):                  0.00   Kurtosis:                         7.92\n",
      "===================================================================================\n",
      "\n",
      "Warnings:\n",
      "[1] Covariance matrix calculated using the outer product of gradients (complex-step).\n",
      "The predicted next 5 values are 2025-01-01    2.867578\n",
      "2026-01-01    3.006953\n",
      "2027-01-01    3.158733\n",
      "2028-01-01    3.362883\n",
      "2029-01-01    3.553089\n",
      "Freq: YS-JAN, dtype: float64\n"
     ]
    }
   ],
   "source": [
    "# We want to predict the next 5 columns of df_india\n",
    "y = df_india_scaled.iloc[:, -1]\n",
    "\n",
    "# Define the auto_arima model\n",
    "model = auto_arima(y, start_p=1, start_q=1, max_p=6, max_q=6, m=12,\n",
    "                   start_P=0, seasonal=True, d=1, D=1, trace=True,\n",
    "                   error_action='ignore', suppress_warnings=True, stepwise=True)\n",
    "\n",
    "# Fit the model\n",
    "model_fit = model.fit(y)\n",
    "\n",
    "# Print the best model parameters\n",
    "print(model_fit.summary())\n",
    "\n",
    "# Predict the next 5 values\n",
    "next_values = model_fit.predict(n_periods=5)\n",
    "print(f\"The predicted next 5 values are {next_values}\")"
   ]
  },
  {
   "cell_type": "code",
   "execution_count": 21,
   "id": "fac382b6",
   "metadata": {},
   "outputs": [
    {
     "name": "stderr",
     "output_type": "stream",
     "text": [
      "C:\\Users\\lluis\\AppData\\Local\\Temp\\ipykernel_11128\\873123723.py:6: FutureWarning: Series.__getitem__ treating keys as positions is deprecated. In a future version, integer keys will always be treated as labels (consistent with DataFrame behavior). To access a value by position, use `ser.iloc[pos]`\n",
      "  y_train, y_test = y[train_index], y[test_index]\n"
     ]
    },
    {
     "name": "stdout",
     "output_type": "stream",
     "text": [
      "MAE: 0.18637325224948045\n",
      "MSE: 0.05951050450931248\n",
      "RMSE: 0.2439477495475465\n",
      "R2 Score: 0.2926508030744899\n",
      "MAE: 0.21539397478296352\n",
      "MSE: 0.09783202330601586\n",
      "RMSE: 0.3127811108523273\n",
      "R2 Score: 0.7854876396681987\n"
     ]
    },
    {
     "name": "stderr",
     "output_type": "stream",
     "text": [
      "C:\\Users\\lluis\\AppData\\Local\\Temp\\ipykernel_11128\\873123723.py:6: FutureWarning: Series.__getitem__ treating keys as positions is deprecated. In a future version, integer keys will always be treated as labels (consistent with DataFrame behavior). To access a value by position, use `ser.iloc[pos]`\n",
      "  y_train, y_test = y[train_index], y[test_index]\n"
     ]
    }
   ],
   "source": [
    "# Define the TimeSeriesSplit\n",
    "tscv = TimeSeriesSplit(n_splits=2)\n",
    "\n",
    "# Loop over the splits\n",
    "for train_index, test_index in tscv.split(y):\n",
    "    y_train, y_test = y[train_index], y[test_index]\n",
    "\n",
    "    # Fit the model on the training data\n",
    "    model_fit = model.fit(y_train)\n",
    "\n",
    "    # Make predictions on the test data\n",
    "    y_pred = model_fit.predict(n_periods=len(y_test))\n",
    "\n",
    "    # Calculate the metrics\n",
    "    mae = mean_absolute_error(y_test, y_pred)\n",
    "    mse = mean_squared_error(y_test, y_pred)\n",
    "    rmse = np.sqrt(mse)\n",
    "    r2 = r2_score(y_test, y_pred)\n",
    "\n",
    "    print(f\"MAE: {mae}\")\n",
    "    print(f\"MSE: {mse}\")\n",
    "    print(f\"RMSE: {rmse}\")\n",
    "    print(f\"R2 Score: {r2}\")"
   ]
  },
  {
   "cell_type": "code",
   "execution_count": 22,
   "id": "4e8e510f",
   "metadata": {},
   "outputs": [
    {
     "name": "stdout",
     "output_type": "stream",
     "text": [
      "[[10558.16087407]\n",
      " [10910.37140777]\n",
      " [11293.92940325]\n",
      " [11809.83085343]\n",
      " [12290.49704411]]\n"
     ]
    }
   ],
   "source": [
    "# Now to descale your predictions\n",
    "next_values_descaled = scaler4.inverse_transform(next_values.values.reshape(-1, 1))\n",
    "\n",
    "print(next_values_descaled)"
   ]
  },
  {
   "cell_type": "code",
   "execution_count": 23,
   "id": "367d68b2",
   "metadata": {},
   "outputs": [],
   "source": [
    "# We add our predictions to the dataframe\n",
    "years = [2025, 2026, 2027, 2028, 2029]\n",
    "for i, year in enumerate(years):\n",
    "    df_india.loc[year] = next_values_descaled[i]"
   ]
  },
  {
   "cell_type": "markdown",
   "id": "0273f01a",
   "metadata": {},
   "source": [
    "ARIMA prediction for Venezuela"
   ]
  },
  {
   "cell_type": "code",
   "execution_count": 24,
   "id": "47ec6621",
   "metadata": {},
   "outputs": [
    {
     "name": "stdout",
     "output_type": "stream",
     "text": [
      "Performing stepwise search to minimize aic\n",
      " ARIMA(1,1,1)(0,1,1)[12]             : AIC=inf, Time=39.76 sec\n",
      " ARIMA(0,1,0)(0,1,0)[12]             : AIC=50.322, Time=0.03 sec\n",
      " ARIMA(1,1,0)(1,1,0)[12]             : AIC=32.762, Time=11.65 sec\n",
      " ARIMA(0,1,1)(0,1,1)[12]             : AIC=inf, Time=20.51 sec\n",
      " ARIMA(1,1,0)(0,1,0)[12]             : AIC=41.826, Time=0.04 sec\n",
      " ARIMA(1,1,0)(2,1,0)[12]             : AIC=31.048, Time=20.98 sec\n",
      " ARIMA(1,1,0)(2,1,1)[12]             : AIC=33.040, Time=19.44 sec\n",
      " ARIMA(1,1,0)(1,1,1)[12]             : AIC=inf, Time=29.04 sec\n",
      " ARIMA(0,1,0)(2,1,0)[12]             : AIC=44.151, Time=15.14 sec\n",
      " ARIMA(2,1,0)(2,1,0)[12]             : AIC=32.362, Time=27.58 sec\n",
      " ARIMA(1,1,1)(2,1,0)[12]             : AIC=32.345, Time=33.92 sec\n",
      " ARIMA(0,1,1)(2,1,0)[12]             : AIC=33.566, Time=49.28 sec\n",
      " ARIMA(2,1,1)(2,1,0)[12]             : AIC=34.325, Time=57.06 sec\n",
      " ARIMA(1,1,0)(2,1,0)[12] intercept   : AIC=32.074, Time=26.28 sec\n",
      "\n",
      "Best model:  ARIMA(1,1,0)(2,1,0)[12]          \n",
      "Total fit time: 350.719 seconds\n",
      "                                     SARIMAX Results                                      \n",
      "==========================================================================================\n",
      "Dep. Variable:                                  y   No. Observations:                   45\n",
      "Model:             SARIMAX(1, 1, 0)x(2, 1, 0, 12)   Log Likelihood                 -11.524\n",
      "Date:                            Thu, 06 Jun 2024   AIC                             31.048\n",
      "Time:                                    17:59:28   BIC                             36.910\n",
      "Sample:                                01-01-1980   HQIC                            32.991\n",
      "                                     - 01-01-2024                                         \n",
      "Covariance Type:                              opg                                         \n",
      "==============================================================================\n",
      "                 coef    std err          z      P>|z|      [0.025      0.975]\n",
      "------------------------------------------------------------------------------\n",
      "ar.L1          0.6119      0.148      4.130      0.000       0.321       0.902\n",
      "ar.S.L12      -1.2319      0.313     -3.929      0.000      -1.846      -0.617\n",
      "ar.S.L24      -0.6459      0.267     -2.419      0.016      -1.169      -0.123\n",
      "sigma2         0.0581      0.040      1.447      0.148      -0.021       0.137\n",
      "===================================================================================\n",
      "Ljung-Box (L1) (Q):                   0.59   Jarque-Bera (JB):                 0.91\n",
      "Prob(Q):                              0.44   Prob(JB):                         0.64\n",
      "Heteroskedasticity (H):               2.35   Skew:                            -0.23\n",
      "Prob(H) (two-sided):                  0.17   Kurtosis:                         2.32\n",
      "===================================================================================\n",
      "\n",
      "Warnings:\n",
      "[1] Covariance matrix calculated using the outer product of gradients (complex-step).\n",
      "The predicted next 5 values are 2025-01-01   -1.073431\n",
      "2026-01-01   -1.078951\n",
      "2027-01-01   -0.934911\n",
      "2028-01-01   -0.295011\n",
      "2029-01-01    0.084254\n",
      "Freq: YS-JAN, dtype: float64\n"
     ]
    }
   ],
   "source": [
    "# We want to predict the next 5 columns of df_venezuela\n",
    "y = df_venezuela_scaled.iloc[:, -1]\n",
    "\n",
    "# Define the auto_arima model\n",
    "model = auto_arima(y, start_p=1, start_q=1, max_p=6, max_q=6, m=12,\n",
    "                   start_P=0, seasonal=True, d=1, D=1, trace=True,\n",
    "                   error_action='ignore', suppress_warnings=True, stepwise=True)\n",
    "\n",
    "# Fit the model\n",
    "model_fit = model.fit(y)\n",
    "\n",
    "# Print the best model parameters\n",
    "print(model_fit.summary())\n",
    "\n",
    "# Predict the next 5 values\n",
    "next_values = model_fit.predict(n_periods=5)\n",
    "print(f\"The predicted next 5 values are {next_values}\")"
   ]
  },
  {
   "cell_type": "code",
   "execution_count": 25,
   "id": "fc4c1cba",
   "metadata": {},
   "outputs": [
    {
     "name": "stdout",
     "output_type": "stream",
     "text": [
      "MAE: 3.3609205076826125\n",
      "MSE: 12.493998098606177\n",
      "RMSE: 3.5346850069852302\n",
      "R2 Score: -20.750781048137185\n"
     ]
    }
   ],
   "source": [
    "# Split the data into training and test sets\n",
    "y_train, y_test = train_test_split(y, test_size=0.2, shuffle=False)\n",
    "\n",
    "# Fit the model on the training data\n",
    "model_fit = model.fit(y_train)\n",
    "\n",
    "# Make predictions on the test data\n",
    "y_pred = model_fit.predict(n_periods=len(y_test))\n",
    "\n",
    "# Calculate the metrics\n",
    "mae = mean_absolute_error(y_test, y_pred)\n",
    "mse = mean_squared_error(y_test, y_pred)\n",
    "rmse = np.sqrt(mse)\n",
    "r2 = r2_score(y_test, y_pred)\n",
    "\n",
    "print(f\"MAE: {mae}\")\n",
    "print(f\"MSE: {mse}\")\n",
    "print(f\"RMSE: {rmse}\")\n",
    "print(f\"R2 Score: {r2}\")"
   ]
  },
  {
   "cell_type": "code",
   "execution_count": 26,
   "id": "c3ae625b",
   "metadata": {},
   "outputs": [
    {
     "name": "stdout",
     "output_type": "stream",
     "text": [
      "[[ 598.94175368]\n",
      " [ 584.99073887]\n",
      " [ 948.99020504]\n",
      " [2566.0649292 ]\n",
      " [3524.49542004]]\n"
     ]
    }
   ],
   "source": [
    "# Now to descale your predictions\n",
    "next_values_descaled = scaler4.inverse_transform(next_values.values.reshape(-1, 1))\n",
    "\n",
    "print(next_values_descaled)"
   ]
  },
  {
   "cell_type": "code",
   "execution_count": 27,
   "id": "fa66ffd5",
   "metadata": {},
   "outputs": [],
   "source": [
    "# We add our predictions to the dataframe\n",
    "years = [2025, 2026, 2027, 2028, 2029]\n",
    "for i, year in enumerate(years):\n",
    "    df_venezuela.loc[year] = next_values_descaled[i]"
   ]
  },
  {
   "cell_type": "markdown",
   "id": "1fa07040",
   "metadata": {},
   "source": [
    "### Predictions Comparison"
   ]
  },
  {
   "cell_type": "markdown",
   "id": "2f153d41",
   "metadata": {},
   "source": [
    "First we create a new dataframe with the our forecast for the next years"
   ]
  },
  {
   "cell_type": "code",
   "execution_count": 38,
   "id": "696126be",
   "metadata": {},
   "outputs": [],
   "source": [
    "# Transpose the DataFrames\n",
    "df_spain_pr = df_spain.T\n",
    "df_switzerland_pr = df_switzerland.T\n",
    "df_usa_pr = df_usa.T\n",
    "df_india_pr = df_india.T\n",
    "df_venezuela_pr = df_venezuela.T\n",
    "\n",
    "# Reset the index and drop it\n",
    "df_spain_pr.reset_index(drop=True, inplace=True)\n",
    "df_switzerland_pr.reset_index(drop=True, inplace=True)\n",
    "df_usa_pr.reset_index(drop=True, inplace=True)\n",
    "df_india_pr.reset_index(drop=True, inplace=True)\n",
    "df_venezuela_pr.reset_index(drop=True, inplace=True)\n",
    "\n",
    "# Add a new column at the beginning with the country name\n",
    "df_spain_pr.insert(0, 'country_name', 'Spain')\n",
    "df_switzerland_pr.insert(0, 'country_name', 'Switzerland')\n",
    "df_usa_pr.insert(0, 'country_name', 'United States')\n",
    "df_india_pr.insert(0, 'country_name', 'India')\n",
    "df_venezuela_pr.insert(0, 'country_name', 'Venezuela')"
   ]
  },
  {
   "cell_type": "code",
   "execution_count": 44,
   "id": "4c8d64e0",
   "metadata": {},
   "outputs": [],
   "source": [
    "# List of DataFrames\n",
    "dfs = [df_spain_pr, df_switzerland_pr, df_usa_pr, df_india_pr, df_venezuela_pr]\n",
    "\n",
    "# Merge the DataFrames\n",
    "df_pr = pd.concat(dfs)\n",
    "\n",
    "# Convert all columns except the first one to numeric\n",
    "df_pr[df_pr.columns[1:]] = df_pr[df_pr.columns[1:]].apply(pd.to_numeric)\n",
    "\n",
    "# List of columns to drop\n",
    "columns_to_drop = ['1980', '1981', '1982', '1983', '1984', '1985', '1986', '1987', '1988', '1989', '1990', '1991', '1992']\n",
    "\n",
    "# Drop the columns\n",
    "df_pr.drop(columns_to_drop, axis=1, inplace=True)\n",
    "\n",
    "# Reset the index and drop it\n",
    "df_pr.reset_index(drop=True, inplace=True)"
   ]
  },
  {
   "cell_type": "code",
   "execution_count": 51,
   "id": "e042bd99",
   "metadata": {},
   "outputs": [
    {
     "data": {
      "text/html": [
       "<div>\n",
       "<style scoped>\n",
       "    .dataframe tbody tr th:only-of-type {\n",
       "        vertical-align: middle;\n",
       "    }\n",
       "\n",
       "    .dataframe tbody tr th {\n",
       "        vertical-align: top;\n",
       "    }\n",
       "\n",
       "    .dataframe thead th {\n",
       "        text-align: right;\n",
       "    }\n",
       "</style>\n",
       "<table border=\"1\" class=\"dataframe\">\n",
       "  <thead>\n",
       "    <tr style=\"text-align: right;\">\n",
       "      <th></th>\n",
       "      <th>country_name</th>\n",
       "      <th>1993</th>\n",
       "      <th>1994</th>\n",
       "      <th>1995</th>\n",
       "      <th>1996</th>\n",
       "      <th>1997</th>\n",
       "      <th>1998</th>\n",
       "      <th>1999</th>\n",
       "      <th>2000</th>\n",
       "      <th>2001</th>\n",
       "      <th>...</th>\n",
       "      <th>2020</th>\n",
       "      <th>2021</th>\n",
       "      <th>2022</th>\n",
       "      <th>2023</th>\n",
       "      <th>2024</th>\n",
       "      <th>2025</th>\n",
       "      <th>2026</th>\n",
       "      <th>2027</th>\n",
       "      <th>2028</th>\n",
       "      <th>2029</th>\n",
       "    </tr>\n",
       "  </thead>\n",
       "  <tbody>\n",
       "    <tr>\n",
       "      <th>0</th>\n",
       "      <td>Spain</td>\n",
       "      <td>16620.937</td>\n",
       "      <td>17325.517</td>\n",
       "      <td>18374.841</td>\n",
       "      <td>19120.069</td>\n",
       "      <td>20148.386</td>\n",
       "      <td>21211.034</td>\n",
       "      <td>22416.165</td>\n",
       "      <td>23880.729</td>\n",
       "      <td>25246.885</td>\n",
       "      <td>...</td>\n",
       "      <td>38044.067</td>\n",
       "      <td>42356.615</td>\n",
       "      <td>47669.667</td>\n",
       "      <td>50436.180</td>\n",
       "      <td>52012.448</td>\n",
       "      <td>53196.521681</td>\n",
       "      <td>54130.055913</td>\n",
       "      <td>55297.280605</td>\n",
       "      <td>57196.236255</td>\n",
       "      <td>59151.816423</td>\n",
       "    </tr>\n",
       "    <tr>\n",
       "      <th>1</th>\n",
       "      <td>Switzerland</td>\n",
       "      <td>33172.325</td>\n",
       "      <td>34021.135</td>\n",
       "      <td>34681.015</td>\n",
       "      <td>35258.617</td>\n",
       "      <td>36572.274</td>\n",
       "      <td>37988.682</td>\n",
       "      <td>39001.417</td>\n",
       "      <td>41292.689</td>\n",
       "      <td>42703.596</td>\n",
       "      <td>...</td>\n",
       "      <td>72255.288</td>\n",
       "      <td>79058.938</td>\n",
       "      <td>86195.048</td>\n",
       "      <td>89243.299</td>\n",
       "      <td>91931.752</td>\n",
       "      <td>94795.836323</td>\n",
       "      <td>97224.012958</td>\n",
       "      <td>99202.296038</td>\n",
       "      <td>101929.281398</td>\n",
       "      <td>104751.794544</td>\n",
       "    </tr>\n",
       "    <tr>\n",
       "      <th>2</th>\n",
       "      <td>United States</td>\n",
       "      <td>26364.192</td>\n",
       "      <td>27674.021</td>\n",
       "      <td>28671.480</td>\n",
       "      <td>29946.973</td>\n",
       "      <td>31440.087</td>\n",
       "      <td>32833.666</td>\n",
       "      <td>34496.241</td>\n",
       "      <td>36312.782</td>\n",
       "      <td>37101.453</td>\n",
       "      <td>...</td>\n",
       "      <td>64367.435</td>\n",
       "      <td>70995.794</td>\n",
       "      <td>77191.871</td>\n",
       "      <td>81632.253</td>\n",
       "      <td>85372.686</td>\n",
       "      <td>87808.594648</td>\n",
       "      <td>90172.485008</td>\n",
       "      <td>92666.444031</td>\n",
       "      <td>95200.114779</td>\n",
       "      <td>98297.371072</td>\n",
       "    </tr>\n",
       "    <tr>\n",
       "      <th>3</th>\n",
       "      <td>India</td>\n",
       "      <td>1367.822</td>\n",
       "      <td>1460.249</td>\n",
       "      <td>1572.155</td>\n",
       "      <td>1688.531</td>\n",
       "      <td>1753.237</td>\n",
       "      <td>1847.385</td>\n",
       "      <td>2001.886</td>\n",
       "      <td>2087.485</td>\n",
       "      <td>2197.354</td>\n",
       "      <td>...</td>\n",
       "      <td>6507.860</td>\n",
       "      <td>7406.466</td>\n",
       "      <td>8424.352</td>\n",
       "      <td>9339.349</td>\n",
       "      <td>10122.951</td>\n",
       "      <td>10558.160874</td>\n",
       "      <td>10910.371408</td>\n",
       "      <td>11293.929403</td>\n",
       "      <td>11809.830853</td>\n",
       "      <td>12290.497044</td>\n",
       "    </tr>\n",
       "    <tr>\n",
       "      <th>4</th>\n",
       "      <td>Venezuela</td>\n",
       "      <td>11427.619</td>\n",
       "      <td>11146.894</td>\n",
       "      <td>11575.821</td>\n",
       "      <td>11516.704</td>\n",
       "      <td>12210.037</td>\n",
       "      <td>12140.770</td>\n",
       "      <td>11350.440</td>\n",
       "      <td>11640.053</td>\n",
       "      <td>12103.331</td>\n",
       "      <td>...</td>\n",
       "      <td>5729.831</td>\n",
       "      <td>6132.464</td>\n",
       "      <td>7265.562</td>\n",
       "      <td>7942.862</td>\n",
       "      <td>8485.876</td>\n",
       "      <td>598.941754</td>\n",
       "      <td>584.990739</td>\n",
       "      <td>948.990205</td>\n",
       "      <td>2566.064929</td>\n",
       "      <td>3524.495420</td>\n",
       "    </tr>\n",
       "  </tbody>\n",
       "</table>\n",
       "<p>5 rows × 38 columns</p>\n",
       "</div>"
      ],
      "text/plain": [
       "    country_name       1993       1994       1995       1996       1997  \\\n",
       "0          Spain  16620.937  17325.517  18374.841  19120.069  20148.386   \n",
       "1    Switzerland  33172.325  34021.135  34681.015  35258.617  36572.274   \n",
       "2  United States  26364.192  27674.021  28671.480  29946.973  31440.087   \n",
       "3          India   1367.822   1460.249   1572.155   1688.531   1753.237   \n",
       "4      Venezuela  11427.619  11146.894  11575.821  11516.704  12210.037   \n",
       "\n",
       "        1998       1999       2000       2001  ...       2020       2021  \\\n",
       "0  21211.034  22416.165  23880.729  25246.885  ...  38044.067  42356.615   \n",
       "1  37988.682  39001.417  41292.689  42703.596  ...  72255.288  79058.938   \n",
       "2  32833.666  34496.241  36312.782  37101.453  ...  64367.435  70995.794   \n",
       "3   1847.385   2001.886   2087.485   2197.354  ...   6507.860   7406.466   \n",
       "4  12140.770  11350.440  11640.053  12103.331  ...   5729.831   6132.464   \n",
       "\n",
       "        2022       2023       2024          2025          2026          2027  \\\n",
       "0  47669.667  50436.180  52012.448  53196.521681  54130.055913  55297.280605   \n",
       "1  86195.048  89243.299  91931.752  94795.836323  97224.012958  99202.296038   \n",
       "2  77191.871  81632.253  85372.686  87808.594648  90172.485008  92666.444031   \n",
       "3   8424.352   9339.349  10122.951  10558.160874  10910.371408  11293.929403   \n",
       "4   7265.562   7942.862   8485.876    598.941754    584.990739    948.990205   \n",
       "\n",
       "            2028           2029  \n",
       "0   57196.236255   59151.816423  \n",
       "1  101929.281398  104751.794544  \n",
       "2   95200.114779   98297.371072  \n",
       "3   11809.830853   12290.497044  \n",
       "4    2566.064929    3524.495420  \n",
       "\n",
       "[5 rows x 38 columns]"
      ]
     },
     "execution_count": 51,
     "metadata": {},
     "output_type": "execute_result"
    }
   ],
   "source": [
    "df_pr"
   ]
  },
  {
   "cell_type": "markdown",
   "id": "8e08b2a1",
   "metadata": {},
   "source": [
    "Now we create a pivot table with the forecast of ECB for the next years"
   ]
  },
  {
   "cell_type": "code",
   "execution_count": 47,
   "id": "2c10b629",
   "metadata": {},
   "outputs": [
    {
     "name": "stderr",
     "output_type": "stream",
     "text": [
      "C:\\Users\\lluis\\AppData\\Local\\Temp\\ipykernel_11128\\1233696390.py:14: SettingWithCopyWarning: \n",
      "A value is trying to be set on a copy of a slice from a DataFrame\n",
      "\n",
      "See the caveats in the documentation: https://pandas.pydata.org/pandas-docs/stable/user_guide/indexing.html#returning-a-view-versus-a-copy\n",
      "  df_ecb_pred.drop(columns_to_drop, axis=1, inplace=True)\n"
     ]
    }
   ],
   "source": [
    "# List of countries to keep\n",
    "countries_to_keep = ['Spain', 'Switzerland', 'United States', 'India', 'Venezuela']\n",
    "\n",
    "# Filter the DataFrame\n",
    "df_ecb_pred = df_merged_pred[df_merged_pred['country_name'].isin(countries_to_keep)]\n",
    "\n",
    "# Reset the index and drop it\n",
    "df_ecb_pred.reset_index(drop=True, inplace=True)\n",
    "\n",
    "# List of columns to drop\n",
    "columns_to_drop = ['1980', '1981', '1982', '1983', '1984', '1985', '1986', '1987', '1988', '1989', '1990', '1991', '1992']\n",
    "\n",
    "# Drop the columns\n",
    "df_ecb_pred.drop(columns_to_drop, axis=1, inplace=True)"
   ]
  },
  {
   "cell_type": "code",
   "execution_count": 48,
   "id": "28c3599c",
   "metadata": {},
   "outputs": [
    {
     "data": {
      "text/html": [
       "<div>\n",
       "<style scoped>\n",
       "    .dataframe tbody tr th:only-of-type {\n",
       "        vertical-align: middle;\n",
       "    }\n",
       "\n",
       "    .dataframe tbody tr th {\n",
       "        vertical-align: top;\n",
       "    }\n",
       "\n",
       "    .dataframe thead th {\n",
       "        text-align: right;\n",
       "    }\n",
       "</style>\n",
       "<table border=\"1\" class=\"dataframe\">\n",
       "  <thead>\n",
       "    <tr style=\"text-align: right;\">\n",
       "      <th></th>\n",
       "      <th>country_name</th>\n",
       "      <th>1993</th>\n",
       "      <th>1994</th>\n",
       "      <th>1995</th>\n",
       "      <th>1996</th>\n",
       "      <th>1997</th>\n",
       "      <th>1998</th>\n",
       "      <th>1999</th>\n",
       "      <th>2000</th>\n",
       "      <th>2001</th>\n",
       "      <th>...</th>\n",
       "      <th>2015</th>\n",
       "      <th>2016</th>\n",
       "      <th>2017</th>\n",
       "      <th>2018</th>\n",
       "      <th>2019</th>\n",
       "      <th>2020</th>\n",
       "      <th>2021</th>\n",
       "      <th>2022</th>\n",
       "      <th>2023</th>\n",
       "      <th>2024</th>\n",
       "    </tr>\n",
       "  </thead>\n",
       "  <tbody>\n",
       "    <tr>\n",
       "      <th>0</th>\n",
       "      <td>Switzerland</td>\n",
       "      <td>33172.325</td>\n",
       "      <td>34021.135</td>\n",
       "      <td>34681.015</td>\n",
       "      <td>35258.617</td>\n",
       "      <td>36572.274</td>\n",
       "      <td>37988.682</td>\n",
       "      <td>39001.417</td>\n",
       "      <td>41292.689</td>\n",
       "      <td>42703.596</td>\n",
       "      <td>...</td>\n",
       "      <td>65613.767</td>\n",
       "      <td>67690.604</td>\n",
       "      <td>68924.081</td>\n",
       "      <td>71966.628</td>\n",
       "      <td>73492.548</td>\n",
       "      <td>72255.288</td>\n",
       "      <td>79058.938</td>\n",
       "      <td>86195.048</td>\n",
       "      <td>89243.299</td>\n",
       "      <td>91931.752</td>\n",
       "    </tr>\n",
       "    <tr>\n",
       "      <th>1</th>\n",
       "      <td>United States</td>\n",
       "      <td>26364.192</td>\n",
       "      <td>27674.021</td>\n",
       "      <td>28671.480</td>\n",
       "      <td>29946.973</td>\n",
       "      <td>31440.087</td>\n",
       "      <td>32833.666</td>\n",
       "      <td>34496.241</td>\n",
       "      <td>36312.782</td>\n",
       "      <td>37101.453</td>\n",
       "      <td>...</td>\n",
       "      <td>57006.926</td>\n",
       "      <td>58179.697</td>\n",
       "      <td>60292.978</td>\n",
       "      <td>63165.278</td>\n",
       "      <td>65504.783</td>\n",
       "      <td>64367.435</td>\n",
       "      <td>70995.794</td>\n",
       "      <td>77191.871</td>\n",
       "      <td>81632.253</td>\n",
       "      <td>85372.686</td>\n",
       "    </tr>\n",
       "    <tr>\n",
       "      <th>2</th>\n",
       "      <td>Spain</td>\n",
       "      <td>16620.937</td>\n",
       "      <td>17325.517</td>\n",
       "      <td>18374.841</td>\n",
       "      <td>19120.069</td>\n",
       "      <td>20148.386</td>\n",
       "      <td>21211.034</td>\n",
       "      <td>22416.165</td>\n",
       "      <td>23880.729</td>\n",
       "      <td>25246.885</td>\n",
       "      <td>...</td>\n",
       "      <td>34954.853</td>\n",
       "      <td>37329.293</td>\n",
       "      <td>39647.785</td>\n",
       "      <td>41308.037</td>\n",
       "      <td>42492.026</td>\n",
       "      <td>38044.067</td>\n",
       "      <td>42356.615</td>\n",
       "      <td>47669.667</td>\n",
       "      <td>50436.180</td>\n",
       "      <td>52012.448</td>\n",
       "    </tr>\n",
       "    <tr>\n",
       "      <th>3</th>\n",
       "      <td>India</td>\n",
       "      <td>1367.822</td>\n",
       "      <td>1460.249</td>\n",
       "      <td>1572.155</td>\n",
       "      <td>1688.531</td>\n",
       "      <td>1753.237</td>\n",
       "      <td>1847.385</td>\n",
       "      <td>2001.886</td>\n",
       "      <td>2087.485</td>\n",
       "      <td>2197.354</td>\n",
       "      <td>...</td>\n",
       "      <td>5412.335</td>\n",
       "      <td>5778.270</td>\n",
       "      <td>6112.066</td>\n",
       "      <td>6583.590</td>\n",
       "      <td>6882.332</td>\n",
       "      <td>6507.860</td>\n",
       "      <td>7406.466</td>\n",
       "      <td>8424.352</td>\n",
       "      <td>9339.349</td>\n",
       "      <td>10122.951</td>\n",
       "    </tr>\n",
       "    <tr>\n",
       "      <th>4</th>\n",
       "      <td>Venezuela</td>\n",
       "      <td>11427.619</td>\n",
       "      <td>11146.894</td>\n",
       "      <td>11575.821</td>\n",
       "      <td>11516.704</td>\n",
       "      <td>12210.037</td>\n",
       "      <td>12140.770</td>\n",
       "      <td>11350.440</td>\n",
       "      <td>11640.053</td>\n",
       "      <td>12103.331</td>\n",
       "      <td>...</td>\n",
       "      <td>16970.969</td>\n",
       "      <td>14169.523</td>\n",
       "      <td>12271.362</td>\n",
       "      <td>10622.181</td>\n",
       "      <td>8117.036</td>\n",
       "      <td>5729.831</td>\n",
       "      <td>6132.464</td>\n",
       "      <td>7265.562</td>\n",
       "      <td>7942.862</td>\n",
       "      <td>8485.876</td>\n",
       "    </tr>\n",
       "  </tbody>\n",
       "</table>\n",
       "<p>5 rows × 33 columns</p>\n",
       "</div>"
      ],
      "text/plain": [
       "    country_name       1993       1994       1995       1996       1997  \\\n",
       "0    Switzerland  33172.325  34021.135  34681.015  35258.617  36572.274   \n",
       "1  United States  26364.192  27674.021  28671.480  29946.973  31440.087   \n",
       "2          Spain  16620.937  17325.517  18374.841  19120.069  20148.386   \n",
       "3          India   1367.822   1460.249   1572.155   1688.531   1753.237   \n",
       "4      Venezuela  11427.619  11146.894  11575.821  11516.704  12210.037   \n",
       "\n",
       "        1998       1999       2000       2001  ...       2015       2016  \\\n",
       "0  37988.682  39001.417  41292.689  42703.596  ...  65613.767  67690.604   \n",
       "1  32833.666  34496.241  36312.782  37101.453  ...  57006.926  58179.697   \n",
       "2  21211.034  22416.165  23880.729  25246.885  ...  34954.853  37329.293   \n",
       "3   1847.385   2001.886   2087.485   2197.354  ...   5412.335   5778.270   \n",
       "4  12140.770  11350.440  11640.053  12103.331  ...  16970.969  14169.523   \n",
       "\n",
       "        2017       2018       2019       2020       2021       2022  \\\n",
       "0  68924.081  71966.628  73492.548  72255.288  79058.938  86195.048   \n",
       "1  60292.978  63165.278  65504.783  64367.435  70995.794  77191.871   \n",
       "2  39647.785  41308.037  42492.026  38044.067  42356.615  47669.667   \n",
       "3   6112.066   6583.590   6882.332   6507.860   7406.466   8424.352   \n",
       "4  12271.362  10622.181   8117.036   5729.831   6132.464   7265.562   \n",
       "\n",
       "        2023       2024  \n",
       "0  89243.299  91931.752  \n",
       "1  81632.253  85372.686  \n",
       "2  50436.180  52012.448  \n",
       "3   9339.349  10122.951  \n",
       "4   7942.862   8485.876  \n",
       "\n",
       "[5 rows x 33 columns]"
      ]
     },
     "execution_count": 48,
     "metadata": {},
     "output_type": "execute_result"
    }
   ],
   "source": [
    "df_ecb_pred"
   ]
  },
  {
   "cell_type": "markdown",
   "id": "64ff491c",
   "metadata": {},
   "source": [
    "Export both prediction dfs for plotting"
   ]
  },
  {
   "cell_type": "code",
   "execution_count": 55,
   "id": "5388d7cb",
   "metadata": {},
   "outputs": [],
   "source": [
    "# Export df_pr to a CSV file\n",
    "df_pr.to_csv(r'https://raw.githubusercontent.com/lgib88/World-Economic-Classification/main/data/cleaned/df_pr.csv', index=False)\n",
    "\n",
    "# Export df_ecb_pred to a CSV file\n",
    "df_ecb_pred.to_csv(r'https://raw.githubusercontent.com/lgib88/World-Economic-Classification/main/data/cleaned/df_ecb_pred.csv', index=False)"
   ]
  }
 ],
 "metadata": {
  "kernelspec": {
   "display_name": "Final_Project",
   "language": "python",
   "name": "final_project"
  },
  "language_info": {
   "codemirror_mode": {
    "name": "ipython",
    "version": 3
   },
   "file_extension": ".py",
   "mimetype": "text/x-python",
   "name": "python",
   "nbconvert_exporter": "python",
   "pygments_lexer": "ipython3",
   "version": "3.12.2"
  }
 },
 "nbformat": 4,
 "nbformat_minor": 5
}
