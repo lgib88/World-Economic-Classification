{
 "cells": [
  {
   "cell_type": "markdown",
   "id": "3cfdf7ab",
   "metadata": {},
   "source": [
    "## Libraries"
   ]
  },
  {
   "cell_type": "code",
   "execution_count": 1,
   "id": "fe0fd691",
   "metadata": {},
   "outputs": [],
   "source": [
    "# importing necessary libraries\n",
    "import pandas as pd  # data analysis\n",
    "import numpy as np  # mathematic evaluations\n",
    "import pycountry # ISO database for countries"
   ]
  },
  {
   "cell_type": "markdown",
   "id": "be3cc027",
   "metadata": {},
   "source": [
    "## Imports"
   ]
  },
  {
   "cell_type": "code",
   "execution_count": 2,
   "id": "1e80e22a",
   "metadata": {},
   "outputs": [],
   "source": [
    "# Import the CSV files into dfs:\n",
    "df_class = pd.read_csv('C:/Users/lluis/Desktop/Documents/IronHack/Final_Project/data/raw/1-world_economic_classifications_v2.csv')\n",
    "df_gdppc_imf = pd.read_csv('C:/Users/lluis/Desktop/Documents/IronHack/Final_Project/data/raw/2-gdp_per_capita_imf.csv', encoding='latin1')\n",
    "df_gdp_national = pd.read_csv('C:/Users/lluis/Desktop/Documents/IronHack/Final_Project/data/raw/3-national_gdp_wb.csv')\n",
    "df_exchange_rate = pd.read_csv('C:/Users/lluis/Desktop/Documents/IronHack/Final_Project/data/raw/4-nasdaq_real_time_price.csv')"
   ]
  },
  {
   "cell_type": "markdown",
   "id": "cdd238db",
   "metadata": {},
   "source": [
    "## Cleaning df_class"
   ]
  },
  {
   "cell_type": "code",
   "execution_count": 3,
   "id": "9dd4afa6",
   "metadata": {},
   "outputs": [
    {
     "name": "stdout",
     "output_type": "stream",
     "text": [
      "<class 'pandas.core.frame.DataFrame'>\n",
      "RangeIndex: 205 entries, 0 to 204\n",
      "Data columns (total 9 columns):\n",
      " #   Column            Non-Null Count  Dtype  \n",
      "---  ------            --------------  -----  \n",
      " 0   country_name      205 non-null    object \n",
      " 1   un_class_2014     167 non-null    object \n",
      " 2   imf_class_2023    193 non-null    object \n",
      " 3   g7                205 non-null    object \n",
      " 4   eu_member         205 non-null    object \n",
      " 5   fuel_exp_country  205 non-null    object \n",
      " 6   wealth_rank       178 non-null    float64\n",
      " 7   gdp_ppp_2022      175 non-null    object \n",
      " 8   gdp_pc_2022       176 non-null    object \n",
      "dtypes: float64(1), object(8)\n",
      "memory usage: 14.5+ KB\n"
     ]
    }
   ],
   "source": [
    "df_class.info()"
   ]
  },
  {
   "cell_type": "markdown",
   "id": "30450114",
   "metadata": {},
   "source": [
    "We are applying the correct column type for each column"
   ]
  },
  {
   "cell_type": "code",
   "execution_count": 4,
   "id": "80078a31",
   "metadata": {},
   "outputs": [],
   "source": [
    "# We convert the 'g7', 'eu_member', and 'fuel_exp_country' columns to boolean type by mapping 'Yes' to 1 and 'No' to 0\n",
    "mapping_dict = {'Yes': 1, 'No': 0}\n",
    "\n",
    "# Apply the mapping to the columns\n",
    "df_class['g7'] = df_class['g7'].map(mapping_dict)\n",
    "df_class['eu_member'] = df_class['eu_member'].map(mapping_dict)\n",
    "df_class['fuel_exp_country'] = df_class['fuel_exp_country'].map(mapping_dict)\n",
    "\n",
    "# We change these columns to boolean type:\n",
    "df_class['g7'] = df_class['g7'].astype(bool)\n",
    "df_class['eu_member'] = df_class['eu_member'].astype(bool)\n",
    "df_class['fuel_exp_country'] = df_class['fuel_exp_country'].astype(bool)"
   ]
  },
  {
   "cell_type": "markdown",
   "id": "7d966bff",
   "metadata": {},
   "source": [
    "Since df_class will be our main DataFrame, we will add the ISO country codes (both 2-digit and 3-digit) to facilitate later plotting and visualization."
   ]
  },
  {
   "cell_type": "code",
   "execution_count": 5,
   "id": "090a46b5",
   "metadata": {},
   "outputs": [],
   "source": [
    "# Some names are incorrect so we will try to change the names to be able to locate the correct ISO country codes.\n",
    "# We define a dictionary with old country names as keys and new country names as values\n",
    "correct_country_names = {\n",
    "    \"Macao SAR\": \"Macao\",\n",
    "    \"Turkey\": \"Türkiye\",\n",
    "    \"Russia\": \"Russian Federation\",\n",
    "    \"St. Kitts and Nevis\": \"Saint Kitts And Nevis\",\n",
    "    \"Macedonia\": \"North Macedonia\",\n",
    "    \"Azerbijan\": \"Azerbaijan\",\n",
    "    \"St. Lucia\": \"Saint Lucia\",\n",
    "    \"Equitorial Guinea\": \"Guinea\",\n",
    "    \"St. Vincent and the Grenadines\": \"Saint Vincent and the Grenadines\",\n",
    "    \"Palestine\": \"Palestine, State of\",\n",
    "    \"Ivory Coast\": \"Côte d'Ivoire\",\n",
    "    \"Sao Tome and Prinicipe\": \"Sao Tome and Principe\",\n",
    "    \"Micronesia\": \"Micronesia, Federated States of\",\n",
    "    \"Democratic Republic of Congo\": \"Congo, The Democratic Republic of the\",\n",
    "    \"Channel Islands\": \"Jersey\",\n",
    "    \"Lichtenstein\": \"Liechtenstein\",\n",
    "}\n",
    "\n",
    "# Replace old country names with new ones\n",
    "df_class['country_name'] = df_class['country_name'].replace(correct_country_names)"
   ]
  },
  {
   "cell_type": "code",
   "execution_count": 6,
   "id": "00d47555",
   "metadata": {},
   "outputs": [],
   "source": [
    "# df_class will be our main DataFrame. We will use column \"country_name\" to extract ISO country codes.\n",
    "\n",
    "# Function to get ISO country codes\n",
    "def get_iso_codes(country_name):\n",
    "    try:\n",
    "        country = pycountry.countries.lookup(country_name)\n",
    "        return country.alpha_2, country.alpha_3\n",
    "    except LookupError:\n",
    "        return None, None\n",
    "\n",
    "# Apply the function to add ISO codes to the DataFrame\n",
    "df_class[['ISO2', 'ISO3']] = df_class['country_name'].apply(lambda x: pd.Series(get_iso_codes(x)))"
   ]
  },
  {
   "cell_type": "code",
   "execution_count": 7,
   "id": "672e3604",
   "metadata": {},
   "outputs": [
    {
     "data": {
      "text/plain": [
       "0"
      ]
     },
     "execution_count": 7,
     "metadata": {},
     "output_type": "execute_result"
    }
   ],
   "source": [
    "# We check if there are some countries without ISO Code\n",
    "df_class['ISO2'].isna().sum()"
   ]
  },
  {
   "cell_type": "code",
   "execution_count": 8,
   "id": "34df35d6",
   "metadata": {},
   "outputs": [],
   "source": [
    "# Now we drop gdp_ppp_2022 and gdp_pc_2022 columns from df_class, because we want to use the data provided by the World Bank\n",
    "\n",
    "df_class = df_class.drop(['gdp_ppp_2022', 'gdp_pc_2022'], axis=1)"
   ]
  },
  {
   "cell_type": "code",
   "execution_count": 9,
   "id": "88b6ede6",
   "metadata": {},
   "outputs": [],
   "source": [
    "# We add GDP per capita from df_gdppc_imf to df_class\n",
    "\n",
    "df_merged = df_class.merge(df_gdppc_imf, left_on='country_name', right_on='Country', how='inner')"
   ]
  },
  {
   "cell_type": "code",
   "execution_count": 10,
   "id": "d993a4fc",
   "metadata": {},
   "outputs": [],
   "source": [
    "# We drop column 'Country' because its redundant\n",
    "\n",
    "df_merged = df_merged.drop('Country', axis=1)"
   ]
  },
  {
   "cell_type": "code",
   "execution_count": 11,
   "id": "9b46eeb7",
   "metadata": {},
   "outputs": [],
   "source": [
    "# We replace the fields where there is no information for NaN\n",
    "\n",
    "df_merged = df_merged.replace('no data', np.nan)"
   ]
  },
  {
   "cell_type": "markdown",
   "id": "5a884716",
   "metadata": {},
   "source": [
    "## Cleaning df_exchange_rate"
   ]
  },
  {
   "cell_type": "code",
   "execution_count": 12,
   "id": "a7ecdbec",
   "metadata": {},
   "outputs": [
    {
     "name": "stdout",
     "output_type": "stream",
     "text": [
      "<class 'pandas.core.frame.DataFrame'>\n",
      "RangeIndex: 7888 entries, 0 to 7887\n",
      "Data columns (total 7 columns):\n",
      " #   Column     Non-Null Count  Dtype  \n",
      "---  ------     --------------  -----  \n",
      " 0   Date       7888 non-null   object \n",
      " 1   Open       7888 non-null   float64\n",
      " 2   High       7888 non-null   float64\n",
      " 3   Low        7888 non-null   float64\n",
      " 4   Close      7888 non-null   float64\n",
      " 5   Adj Close  7888 non-null   float64\n",
      " 6   Volume     7888 non-null   int64  \n",
      "dtypes: float64(5), int64(1), object(1)\n",
      "memory usage: 431.5+ KB\n"
     ]
    }
   ],
   "source": [
    "df_exchange_rate.info()"
   ]
  },
  {
   "cell_type": "code",
   "execution_count": 13,
   "id": "7e2fc4ff",
   "metadata": {},
   "outputs": [],
   "source": [
    "# We convert the date to datetime\n",
    "df_exchange_rate['Date'] = pd.to_datetime(df_exchange_rate['Date'])"
   ]
  },
  {
   "cell_type": "code",
   "execution_count": 14,
   "id": "6abc8006",
   "metadata": {},
   "outputs": [
    {
     "data": {
      "text/plain": [
       "Date         0\n",
       "Open         0\n",
       "High         0\n",
       "Low          0\n",
       "Close        0\n",
       "Adj Close    0\n",
       "Volume       0\n",
       "dtype: int64"
      ]
     },
     "execution_count": 14,
     "metadata": {},
     "output_type": "execute_result"
    }
   ],
   "source": [
    "# We check for NaNs\n",
    "df_exchange_rate.isna().sum()"
   ]
  },
  {
   "cell_type": "markdown",
   "id": "8f28aa95",
   "metadata": {},
   "source": [
    "## Export Cleaned Data"
   ]
  },
  {
   "cell_type": "code",
   "execution_count": 15,
   "id": "245bd811",
   "metadata": {},
   "outputs": [],
   "source": [
    "# We export to csv the dfs we are going to use to cleaned data folder\n",
    "\n",
    "df_merged.to_csv(r'C:/Users/lluis/Desktop/Documents/IronHack/Final_Project/data/cleaned/df_merged.csv', index=False)\n",
    "df_exchange_rate.to_csv(r'C:/Users/lluis/Desktop/Documents/IronHack/Final_Project/data/cleaned/df_exchange_rate.csv', index=False)"
   ]
  }
 ],
 "metadata": {
  "kernelspec": {
   "display_name": "Final_Project",
   "language": "python",
   "name": "final_project"
  },
  "language_info": {
   "codemirror_mode": {
    "name": "ipython",
    "version": 3
   },
   "file_extension": ".py",
   "mimetype": "text/x-python",
   "name": "python",
   "nbconvert_exporter": "python",
   "pygments_lexer": "ipython3",
   "version": "3.12.2"
  }
 },
 "nbformat": 4,
 "nbformat_minor": 5
}
